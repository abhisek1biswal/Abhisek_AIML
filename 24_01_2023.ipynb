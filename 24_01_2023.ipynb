{
  "nbformat": 4,
  "nbformat_minor": 0,
  "metadata": {
    "colab": {
      "provenance": [],
      "authorship_tag": "ABX9TyO+glNAEdKq2NgC1yg7vy5K",
      "include_colab_link": true
    },
    "kernelspec": {
      "name": "python3",
      "display_name": "Python 3"
    },
    "language_info": {
      "name": "python"
    }
  },
  "cells": [
    {
      "cell_type": "markdown",
      "metadata": {
        "id": "view-in-github",
        "colab_type": "text"
      },
      "source": [
        "<a href=\"https://colab.research.google.com/github/abhisek1biswal/Abhisek_AIML/blob/main/24_01_2023.ipynb\" target=\"_parent\"><img src=\"https://colab.research.google.com/assets/colab-badge.svg\" alt=\"Open In Colab\"/></a>"
      ]
    },
    {
      "cell_type": "markdown",
      "source": [
        "1. INPUT RADIUS FIND AREA OF CIRCLE AND PERIMETER OF THE CIRCLE.\n"
      ],
      "metadata": {
        "id": "v8XIIrcx_TNu"
      }
    },
    {
      "cell_type": "code",
      "source": [
        "pi=3.14\n",
        "r=float(input(\"enter radius of the circle : \"))\n",
        "area = (pi*r*r)\n",
        "perimeter = (2*pi*r)\n",
        "print(\"the area of the circle : \",area)\n",
        "print(\"the perimeter of the circle : \",perimeter)"
      ],
      "metadata": {
        "colab": {
          "base_uri": "https://localhost:8080/"
        },
        "id": "WmpgHyEx_msk",
        "outputId": "8eb80433-3074-4b62-852c-6d2d8a4ffb04"
      },
      "execution_count": 2,
      "outputs": [
        {
          "output_type": "stream",
          "name": "stdout",
          "text": [
            "enter radius of the circle : 3.5\n",
            "the area of the circle :  38.465\n",
            "the perimeter of the circle :  21.98\n"
          ]
        }
      ]
    },
    {
      "cell_type": "markdown",
      "source": [
        "2.INPUT KILOMETER CONVERTS TO CENTIMETER,METER AND MILIMETER."
      ],
      "metadata": {
        "id": "mXvVR9QfJC17"
      }
    },
    {
      "cell_type": "code",
      "source": [
        "d=int(input(\"enter a value in km : \"))\n",
        "m=1000*d\n",
        "print(\"the value in meter is : \",m)\n",
        "cm=100000*d\n",
        "print(\"the value in centimeter is : \",cm)\n",
        "mm=1000000*d\n",
        "print(\"the value in milimeter is : \",mm)"
      ],
      "metadata": {
        "colab": {
          "base_uri": "https://localhost:8080/"
        },
        "id": "s8Q33GmyJECO",
        "outputId": "af686861-3a6d-4162-dad3-25a30a68fe1b"
      },
      "execution_count": 9,
      "outputs": [
        {
          "output_type": "stream",
          "name": "stdout",
          "text": [
            "enter a value in km : 3\n",
            "the value in meter is :  3000\n",
            "the value in centimeter is :  300000\n",
            "the value in milimeter is :  3000000\n"
          ]
        }
      ]
    },
    {
      "cell_type": "markdown",
      "source": [
        "3. INPUT TWO NUMBERS FIND SUM WITHOUT '+' OPERATOR.\n"
      ],
      "metadata": {
        "id": "WTyjYX2zBTQj"
      }
    },
    {
      "cell_type": "code",
      "source": [
        "def Add(a,b):\n",
        "  while(b!=0):\n",
        "    carry=a&b\n",
        "    a=a^b\n",
        "    b=carry<<1\n",
        "  return a  \n",
        "print(Add(10,20))  "
      ],
      "metadata": {
        "colab": {
          "base_uri": "https://localhost:8080/"
        },
        "id": "U4bxSZmUBqV4",
        "outputId": "2604858c-8622-4021-890e-4f502c314aa4"
      },
      "execution_count": 3,
      "outputs": [
        {
          "output_type": "stream",
          "name": "stdout",
          "text": [
            "30\n"
          ]
        }
      ]
    },
    {
      "cell_type": "markdown",
      "source": [
        "4. INPUT TWO NUMBER FIND REMAINDER WITHOUT '%'."
      ],
      "metadata": {
        "id": "vVXHA6IiERK4"
      }
    },
    {
      "cell_type": "code",
      "source": [
        "a=int(input(\"enter value of a : \"))\n",
        "b=int(input(\"enter value of b : \"))\n",
        "def rem(a,b):\n",
        "  return(a-b*(a//b))\n",
        "print(\"the remainder is : \",rem(a,b))  "
      ],
      "metadata": {
        "colab": {
          "base_uri": "https://localhost:8080/"
        },
        "id": "X5CfeA4SE3tJ",
        "outputId": "78d1638a-6cad-4f09-81ab-9517094708b6"
      },
      "execution_count": 5,
      "outputs": [
        {
          "output_type": "stream",
          "name": "stdout",
          "text": [
            "enter value of a : 100\n",
            "enter value of b : 3\n",
            "the remainder is :  1\n"
          ]
        }
      ]
    },
    {
      "cell_type": "markdown",
      "source": [
        "5.INPUT TEMPERATURE FINDS CELSIUS AND FAHRENHEIT AND VICE VERSA."
      ],
      "metadata": {
        "id": "osszHaKlFrSz"
      }
    },
    {
      "cell_type": "code",
      "source": [
        "celsius=float(input(\"enter the value : \"))\n",
        "fahrenheit=(celsius * 1.8) + 32\n",
        "print(\"the value in fahrenheit\",fahrenheit)\n",
        "fahrenheit_f=float(input(\"enter the value : \"))\n",
        "celsius_c=int((fahrenheit_f - 32) / 1.8)\n",
        "print(\"the value in celsius\",celsius_c)"
      ],
      "metadata": {
        "colab": {
          "base_uri": "https://localhost:8080/"
        },
        "id": "ND0dhOxPF5r0",
        "outputId": "0ff559f0-74a0-46af-cec9-5a76fb24b93c"
      },
      "execution_count": 7,
      "outputs": [
        {
          "output_type": "stream",
          "name": "stdout",
          "text": [
            "enter the value : 33\n",
            "the value in fahrenheit 91.4\n",
            "enter the value : 91.4\n",
            "the value in celsius 33\n"
          ]
        }
      ]
    },
    {
      "cell_type": "markdown",
      "source": [
        "6.INPUT A NUMBER FINDS REVERSE NUMBER WITHOUT LOOPING STRUCTURE."
      ],
      "metadata": {
        "id": "wc13AEZGHSja"
      }
    },
    {
      "cell_type": "code",
      "source": [
        "n=int(input(\"enter the number : \"))\n",
        "rev=int(str(n)[::-1])\n",
        "print(\"the reverse number is : \",rev)"
      ],
      "metadata": {
        "colab": {
          "base_uri": "https://localhost:8080/"
        },
        "id": "tKBaFdP3IbBk",
        "outputId": "679a84dd-96a6-460f-9378-4f6a7037f41b"
      },
      "execution_count": 8,
      "outputs": [
        {
          "output_type": "stream",
          "name": "stdout",
          "text": [
            "enter the number : 1234\n",
            "the reverse number is :  4321\n"
          ]
        }
      ]
    }
  ]
}