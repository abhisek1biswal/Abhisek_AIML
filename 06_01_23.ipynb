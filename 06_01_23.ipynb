{
  "nbformat": 4,
  "nbformat_minor": 0,
  "metadata": {
    "colab": {
      "provenance": [],
      "authorship_tag": "ABX9TyNE03Vfqbtzwt2kTjMkm789",
      "include_colab_link": true
    },
    "kernelspec": {
      "name": "python3",
      "display_name": "Python 3"
    },
    "language_info": {
      "name": "python"
    }
  },
  "cells": [
    {
      "cell_type": "markdown",
      "metadata": {
        "id": "view-in-github",
        "colab_type": "text"
      },
      "source": [
        "<a href=\"https://colab.research.google.com/github/abhisek1biswal/Abhisek_AIML/blob/main/06_01_23.ipynb\" target=\"_parent\"><img src=\"https://colab.research.google.com/assets/colab-badge.svg\" alt=\"Open In Colab\"/></a>"
      ]
    },
    {
      "cell_type": "code",
      "execution_count": null,
      "metadata": {
        "colab": {
          "base_uri": "https://localhost:8080/"
        },
        "id": "GbN3ZgQgOljF",
        "outputId": "4c385637-c937-47d0-fdd6-3a712d4046ae"
      },
      "outputs": [
        {
          "output_type": "stream",
          "name": "stdout",
          "text": [
            "Hello everyone\n"
          ]
        }
      ],
      "source": [
        "print('Hello everyone')"
      ]
    },
    {
      "cell_type": "markdown",
      "source": [
        "using of parameters in print() statement."
      ],
      "metadata": {
        "id": "IUVCJ0l_ZM_6"
      }
    },
    {
      "cell_type": "code",
      "source": [
        "print(\"Hello\" ,end='\\n\\n\\n')\n",
        "print(\"Abit\")"
      ],
      "metadata": {
        "colab": {
          "base_uri": "https://localhost:8080/"
        },
        "id": "xADmH7uKZZin",
        "outputId": "aa8eea67-25cb-47f9-d85a-8a94453658a5"
      },
      "execution_count": null,
      "outputs": [
        {
          "output_type": "stream",
          "name": "stdout",
          "text": [
            "Hello\n",
            "\n",
            "\n",
            "Abit\n"
          ]
        }
      ]
    },
    {
      "cell_type": "code",
      "source": [
        "a=6\n",
        "b=1\n",
        "c=2023\n",
        "print(a,b,c, sep='-')"
      ],
      "metadata": {
        "colab": {
          "base_uri": "https://localhost:8080/"
        },
        "id": "VclX1Qz-bqOG",
        "outputId": "49226e75-0248-4119-8fb6-5e0aa384ce6a"
      },
      "execution_count": null,
      "outputs": [
        {
          "output_type": "stream",
          "name": "stdout",
          "text": [
            "6-1-2023\n"
          ]
        }
      ]
    },
    {
      "cell_type": "code",
      "source": [
        "a=100\n",
        "print('a =',a)"
      ],
      "metadata": {
        "colab": {
          "base_uri": "https://localhost:8080/"
        },
        "id": "6etB-j3zcXxy",
        "outputId": "16dc4595-d75a-4d01-a1b8-b2ba58ad0963"
      },
      "execution_count": null,
      "outputs": [
        {
          "output_type": "stream",
          "name": "stdout",
          "text": [
            "a = 100\n"
          ]
        }
      ]
    },
    {
      "cell_type": "code",
      "source": [
        "nm=input(\"Enter Name\")\n",
        "print(nm)"
      ],
      "metadata": {
        "colab": {
          "base_uri": "https://localhost:8080/"
        },
        "id": "WXE9BAQsdYft",
        "outputId": "ff00217b-a6c8-430c-a437-d0fa69d8e1c7"
      },
      "execution_count": null,
      "outputs": [
        {
          "output_type": "stream",
          "name": "stdout",
          "text": [
            "Enter NameAbhisek\n",
            "Abhisek\n"
          ]
        }
      ]
    },
    {
      "cell_type": "code",
      "source": [
        "# using of + operator.\n",
        "a=int(input('Enter a :'))\n",
        "b=int(input('Enter b :'))\n",
        "c=a+b\n",
        "print('a+b =',c)"
      ],
      "metadata": {
        "colab": {
          "base_uri": "https://localhost:8080/"
        },
        "id": "xg5hiEoId9WK",
        "outputId": "79fe9ea9-492f-49a5-e5f2-a60e83a70c73"
      },
      "execution_count": null,
      "outputs": [
        {
          "output_type": "stream",
          "name": "stdout",
          "text": [
            "Enter a :10\n",
            "Enter b :20\n",
            "a+b = 30\n"
          ]
        }
      ]
    },
    {
      "cell_type": "code",
      "source": [
        "a=float(input('Enter a : '))\n",
        "b=float(input('Enter b : '))\n",
        "c=a+b\n",
        "print('a+b',c)"
      ],
      "metadata": {
        "colab": {
          "base_uri": "https://localhost:8080/"
        },
        "id": "kuIEgTDlf8WB",
        "outputId": "c97af9a5-5d61-4845-e1c2-c871f3ee1a9e"
      },
      "execution_count": null,
      "outputs": [
        {
          "output_type": "stream",
          "name": "stdout",
          "text": [
            "Enter a : 11.22\n",
            "Enter b : 22.33\n",
            "a+b 33.55\n"
          ]
        }
      ]
    },
    {
      "cell_type": "code",
      "source": [
        "# The type() function\n",
        "a=100\n",
        "print(type(a))\n",
        "b=33.55\n",
        "print(type(b))\n",
        "c=\"ABIT\"\n",
        "print(type(c))\n",
        "d=True\n",
        "print(type(d))\n"
      ],
      "metadata": {
        "colab": {
          "base_uri": "https://localhost:8080/"
        },
        "id": "pxkG7IZUhp8L",
        "outputId": "f67228a3-f0f5-4a15-e93d-a1a89db315a1"
      },
      "execution_count": null,
      "outputs": [
        {
          "output_type": "stream",
          "name": "stdout",
          "text": [
            "<class 'int'>\n",
            "<class 'float'>\n",
            "<class 'str'>\n",
            "<class 'bool'>\n"
          ]
        }
      ]
    }
  ]
}