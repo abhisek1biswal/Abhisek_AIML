{
  "nbformat": 4,
  "nbformat_minor": 0,
  "metadata": {
    "colab": {
      "provenance": [],
      "authorship_tag": "ABX9TyPYFZx0VA98XxpvlQXRgAQ2",
      "include_colab_link": true
    },
    "kernelspec": {
      "name": "python3",
      "display_name": "Python 3"
    },
    "language_info": {
      "name": "python"
    }
  },
  "cells": [
    {
      "cell_type": "markdown",
      "metadata": {
        "id": "view-in-github",
        "colab_type": "text"
      },
      "source": [
        "<a href=\"https://colab.research.google.com/github/abhisek1biswal/Abhisek_AIML/blob/main/06_01_23.ipynb\" target=\"_parent\"><img src=\"https://colab.research.google.com/assets/colab-badge.svg\" alt=\"Open In Colab\"/></a>"
      ]
    },
    {
      "cell_type": "code",
      "execution_count": null,
      "metadata": {
        "colab": {
          "base_uri": "https://localhost:8080/"
        },
        "id": "GbN3ZgQgOljF",
        "outputId": "4c385637-c937-47d0-fdd6-3a712d4046ae"
      },
      "outputs": [
        {
          "output_type": "stream",
          "name": "stdout",
          "text": [
            "Hello everyone\n"
          ]
        }
      ],
      "source": [
        "print('Hello everyone')"
      ]
    },
    {
      "cell_type": "markdown",
      "source": [
        "using of parameters in print() statement."
      ],
      "metadata": {
        "id": "IUVCJ0l_ZM_6"
      }
    },
    {
      "cell_type": "code",
      "source": [
        "print(\"Hello\" ,end='\\n\\n\\n')\n",
        "print(\"Abit\")"
      ],
      "metadata": {
        "colab": {
          "base_uri": "https://localhost:8080/"
        },
        "id": "xADmH7uKZZin",
        "outputId": "aa8eea67-25cb-47f9-d85a-8a94453658a5"
      },
      "execution_count": null,
      "outputs": [
        {
          "output_type": "stream",
          "name": "stdout",
          "text": [
            "Hello\n",
            "\n",
            "\n",
            "Abit\n"
          ]
        }
      ]
    },
    {
      "cell_type": "code",
      "source": [
        "a=6\n",
        "b=1\n",
        "c=2023\n",
        "print(a,b,c, sep='-')"
      ],
      "metadata": {
        "colab": {
          "base_uri": "https://localhost:8080/"
        },
        "id": "VclX1Qz-bqOG",
        "outputId": "49226e75-0248-4119-8fb6-5e0aa384ce6a"
      },
      "execution_count": null,
      "outputs": [
        {
          "output_type": "stream",
          "name": "stdout",
          "text": [
            "6-1-2023\n"
          ]
        }
      ]
    },
    {
      "cell_type": "code",
      "source": [
        "a=100\n",
        "print('a =',a)"
      ],
      "metadata": {
        "colab": {
          "base_uri": "https://localhost:8080/"
        },
        "id": "6etB-j3zcXxy",
        "outputId": "16dc4595-d75a-4d01-a1b8-b2ba58ad0963"
      },
      "execution_count": null,
      "outputs": [
        {
          "output_type": "stream",
          "name": "stdout",
          "text": [
            "a = 100\n"
          ]
        }
      ]
    },
    {
      "cell_type": "code",
      "source": [
        "nm=input(\"Enter Name\")\n",
        "print(nm)"
      ],
      "metadata": {
        "colab": {
          "base_uri": "https://localhost:8080/"
        },
        "id": "WXE9BAQsdYft",
        "outputId": "ff00217b-a6c8-430c-a437-d0fa69d8e1c7"
      },
      "execution_count": null,
      "outputs": [
        {
          "output_type": "stream",
          "name": "stdout",
          "text": [
            "Enter NameAbhisek\n",
            "Abhisek\n"
          ]
        }
      ]
    },
    {
      "cell_type": "code",
      "source": [
        "# using of + operator.\n",
        "a=int(input('Enter a :'))\n",
        "b=int(input('Enter b :'))\n",
        "c=a+b\n",
        "print('a+b =',c)"
      ],
      "metadata": {
        "colab": {
          "base_uri": "https://localhost:8080/"
        },
        "id": "xg5hiEoId9WK",
        "outputId": "79fe9ea9-492f-49a5-e5f2-a60e83a70c73"
      },
      "execution_count": null,
      "outputs": [
        {
          "output_type": "stream",
          "name": "stdout",
          "text": [
            "Enter a :10\n",
            "Enter b :20\n",
            "a+b = 30\n"
          ]
        }
      ]
    },
    {
      "cell_type": "code",
      "source": [
        "a=float(input('Enter a : '))\n",
        "b=float(input('Enter b : '))\n",
        "c=a+b\n",
        "print('a+b',c)"
      ],
      "metadata": {
        "colab": {
          "base_uri": "https://localhost:8080/"
        },
        "id": "kuIEgTDlf8WB",
        "outputId": "c97af9a5-5d61-4845-e1c2-c871f3ee1a9e"
      },
      "execution_count": null,
      "outputs": [
        {
          "output_type": "stream",
          "name": "stdout",
          "text": [
            "Enter a : 11.22\n",
            "Enter b : 22.33\n",
            "a+b 33.55\n"
          ]
        }
      ]
    },
    {
      "cell_type": "code",
      "source": [
        "# The type() function\n",
        "a=100\n",
        "print(type(a))\n",
        "b=33.55\n",
        "print(type(b))\n",
        "c=\"ABIT\"\n",
        "print(type(c))\n",
        "d=True\n",
        "print(type(d))\n"
      ],
      "metadata": {
        "colab": {
          "base_uri": "https://localhost:8080/"
        },
        "id": "pxkG7IZUhp8L",
        "outputId": "f67228a3-f0f5-4a15-e93d-a1a89db315a1"
      },
      "execution_count": null,
      "outputs": [
        {
          "output_type": "stream",
          "name": "stdout",
          "text": [
            "<class 'int'>\n",
            "<class 'float'>\n",
            "<class 'str'>\n",
            "<class 'bool'>\n"
          ]
        }
      ]
    },
    {
      "cell_type": "code",
      "source": [
        "a=2\n",
        "b=5\n",
        "print(2**5)"
      ],
      "metadata": {
        "colab": {
          "base_uri": "https://localhost:8080/"
        },
        "id": "9CtY3i2abn1K",
        "outputId": "a773ed73-0a13-4c48-a281-e0ee2ac5e12f"
      },
      "execution_count": 1,
      "outputs": [
        {
          "output_type": "stream",
          "name": "stdout",
          "text": [
            "32\n"
          ]
        }
      ]
    },
    {
      "cell_type": "code",
      "source": [
        "# using / and //\n",
        "a=8\n",
        "b=3\n",
        "print(a/b)\n",
        "print(a//b)"
      ],
      "metadata": {
        "colab": {
          "base_uri": "https://localhost:8080/"
        },
        "id": "d5srrgTccEYb",
        "outputId": "e364c021-20e7-4a6c-9129-0df13ef197b0"
      },
      "execution_count": 2,
      "outputs": [
        {
          "output_type": "stream",
          "name": "stdout",
          "text": [
            "2.6666666666666665\n",
            "2\n"
          ]
        }
      ]
    },
    {
      "cell_type": "code",
      "source": [
        "a=True\n",
        "b=True\n",
        "c=False\n",
        "print(a and b)\n",
        "print(a and c)\n",
        "print(a or b)\n",
        "print(not c)"
      ],
      "metadata": {
        "colab": {
          "base_uri": "https://localhost:8080/"
        },
        "id": "h8CJmVqpdaT0",
        "outputId": "9563cf8b-2149-4f50-92bd-5924998d1341"
      },
      "execution_count": 5,
      "outputs": [
        {
          "output_type": "stream",
          "name": "stdout",
          "text": [
            "True\n",
            "False\n",
            "True\n",
            "True\n"
          ]
        }
      ]
    },
    {
      "cell_type": "code",
      "source": [
        "a=5\n",
        "b=2\n",
        "print(a<<b)\n",
        "print(a>>b)"
      ],
      "metadata": {
        "colab": {
          "base_uri": "https://localhost:8080/"
        },
        "id": "-fio5yOeetfa",
        "outputId": "b042f983-3827-4e8e-84ea-91eb43ebc203"
      },
      "execution_count": 8,
      "outputs": [
        {
          "output_type": "stream",
          "name": "stdout",
          "text": [
            "20\n",
            "1\n"
          ]
        }
      ]
    },
    {
      "cell_type": "code",
      "source": [
        "# using ASSIGNMENT operator\n",
        "a=5\n",
        "a+=5\n",
        "print(a)\n",
        "a-=5\n",
        "print(a)\n",
        "a*=5\n",
        "print(a)\n",
        "a/=5\n",
        "print(a)\n",
        "a%=5\n",
        "print(a)\n",
        "a//=5\n",
        "print(a)"
      ],
      "metadata": {
        "colab": {
          "base_uri": "https://localhost:8080/"
        },
        "id": "5I5rT9q9gXpS",
        "outputId": "7d69c9f1-731b-43cb-8f4d-03c98543ebef"
      },
      "execution_count": 21,
      "outputs": [
        {
          "output_type": "stream",
          "name": "stdout",
          "text": [
            "10\n",
            "5\n",
            "25\n",
            "5.0\n",
            "0.0\n",
            "0.0\n"
          ]
        }
      ]
    },
    {
      "cell_type": "code",
      "source": [
        "x=5\n",
        "y=5\n",
        "print(x is y)\n",
        "y=6\n",
        "print(x is not y)"
      ],
      "metadata": {
        "colab": {
          "base_uri": "https://localhost:8080/"
        },
        "id": "z_U9qspFhsyv",
        "outputId": "c2435184-b28e-45d6-adb9-6bed01ecae10"
      },
      "execution_count": 19,
      "outputs": [
        {
          "output_type": "stream",
          "name": "stdout",
          "text": [
            "True\n",
            "True\n"
          ]
        }
      ]
    },
    {
      "cell_type": "code",
      "source": [
        "x='HELLO'\n",
        "print('A' in x)\n",
        "print('A' not in x)"
      ],
      "metadata": {
        "colab": {
          "base_uri": "https://localhost:8080/"
        },
        "id": "-lVxbMwBjpKZ",
        "outputId": "5a3ef89a-531f-489a-cc05-fe9c5c654ca1"
      },
      "execution_count": 23,
      "outputs": [
        {
          "output_type": "stream",
          "name": "stdout",
          "text": [
            "False\n",
            "True\n"
          ]
        }
      ]
    },
    {
      "cell_type": "code",
      "source": [
        "# using if Statement in Python\n",
        "a=int(input('Enter a number : '))\n",
        "if a%2==0:\n",
        "  print('Even No = ',a)"
      ],
      "metadata": {
        "colab": {
          "base_uri": "https://localhost:8080/"
        },
        "id": "SL8MWieJkxPH",
        "outputId": "40babb93-0151-466c-fcfe-f9d49bcf6840"
      },
      "execution_count": 24,
      "outputs": [
        {
          "output_type": "stream",
          "name": "stdout",
          "text": [
            "Enter a number : 20\n",
            "Even No =  20\n"
          ]
        }
      ]
    },
    {
      "cell_type": "code",
      "source": [
        "# using if-else Statement in Python\n",
        "a=int(input('Enter a number : '))\n",
        "if a%2==0:\n",
        "  print('Even No = ',a)\n",
        "else:\n",
        "  print('Odd No = ',a)  "
      ],
      "metadata": {
        "colab": {
          "base_uri": "https://localhost:8080/"
        },
        "id": "4dKaEr-klnXe",
        "outputId": "2251beed-2777-4075-e869-7eb72ff53975"
      },
      "execution_count": 25,
      "outputs": [
        {
          "output_type": "stream",
          "name": "stdout",
          "text": [
            "Enter a number : 15\n",
            "Odd No =  15\n"
          ]
        }
      ]
    },
    {
      "cell_type": "code",
      "source": [
        "# using if-else Statement in Python\n",
        "a=int(input('Enter a number : '))\n",
        "if a==10:\n",
        "  print('a is equal to 10')\n",
        "elif a==50:\n",
        "  print('a is equal to 50');\n",
        "elif a==100:\n",
        "  print('a is equal to 100');\n",
        "else:\n",
        "  print('a is not equal to 10,50 or 100')    \n",
        " "
      ],
      "metadata": {
        "colab": {
          "base_uri": "https://localhost:8080/"
        },
        "id": "Kxj4yXyFmnpB",
        "outputId": "c08efb0c-7841-45fd-b6ce-cb693f52b211"
      },
      "execution_count": 27,
      "outputs": [
        {
          "output_type": "stream",
          "name": "stdout",
          "text": [
            "Enter a number : 15\n",
            "a is not equal to 10,50 or 100\n"
          ]
        }
      ]
    },
    {
      "cell_type": "code",
      "source": [
        "# using for statement\n",
        "str='Python'\n",
        "for i in str:\n",
        "  print(i)"
      ],
      "metadata": {
        "colab": {
          "base_uri": "https://localhost:8080/"
        },
        "id": "YGTP7xLfpD7S",
        "outputId": "308a5f75-b6f5-445c-8e53-5a45aa4b79ed"
      },
      "execution_count": 28,
      "outputs": [
        {
          "output_type": "stream",
          "name": "stdout",
          "text": [
            "P\n",
            "y\n",
            "t\n",
            "h\n",
            "o\n",
            "n\n"
          ]
        }
      ]
    }
  ]
}